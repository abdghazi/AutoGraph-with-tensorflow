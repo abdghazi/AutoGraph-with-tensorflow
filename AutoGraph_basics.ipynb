{
  "nbformat": 4,
  "nbformat_minor": 0,
  "metadata": {
    "colab": {
      "name": "AutoGraph_basics.ipynb",
      "provenance": [],
      "collapsed_sections": []
    },
    "kernelspec": {
      "name": "python3",
      "display_name": "Python 3"
    }
  },
  "cells": [
    {
      "cell_type": "code",
      "metadata": {
        "id": "q9fg6XUUVsSR"
      },
      "source": [
        "import tensorflow as tf"
      ],
      "execution_count": null,
      "outputs": []
    },
    {
      "cell_type": "code",
      "metadata": {
        "colab": {
          "base_uri": "https://localhost:8080/"
        },
        "id": "l6B_IPkvW2nA",
        "outputId": "9faa37d3-d707-4d24-afbc-30ba3bd159d3"
      },
      "source": [
        "@tf.function\r\n",
        "def add(a, b):\r\n",
        "  return a+bin\r\n",
        "\r\n",
        "\r\n",
        "a = tf.Variable([[1,2],[2,3]])\r\n",
        "b = tf.Variable([[4,2],[4,3]])\r\n",
        "\r\n",
        "print(tf.add(a,b))\r\n"
      ],
      "execution_count": null,
      "outputs": [
        {
          "output_type": "stream",
          "text": [
            "tf.Tensor(\n",
            "[[5 4]\n",
            " [6 6]], shape=(2, 2), dtype=int32)\n"
          ],
          "name": "stdout"
        }
      ]
    },
    {
      "cell_type": "code",
      "metadata": {
        "colab": {
          "base_uri": "https://localhost:8080/"
        },
        "id": "ZJxIjacKXMvR",
        "outputId": "6760b7c2-c943-484b-ed5b-a8d534eaea7c"
      },
      "source": [
        "print(tf.autograph.to_code(add.python_function))"
      ],
      "execution_count": null,
      "outputs": [
        {
          "output_type": "stream",
          "text": [
            "def tf__add(a, b):\n",
            "    with ag__.FunctionScope('add', 'fscope', ag__.ConversionOptions(recursive=True, user_requested=True, optional_features=(), internal_convert_user_code=True)) as fscope:\n",
            "        do_return = False\n",
            "        retval_ = ag__.UndefinedReturnValue()\n",
            "        try:\n",
            "            do_return = True\n",
            "            retval_ = (ag__.ld(a) + ag__.ld(bin))\n",
            "        except:\n",
            "            do_return = False\n",
            "            raise\n",
            "        return fscope.ret(retval_, do_return)\n",
            "\n"
          ],
          "name": "stdout"
        }
      ]
    },
    {
      "cell_type": "code",
      "metadata": {
        "colab": {
          "base_uri": "https://localhost:8080/"
        },
        "id": "l7zqS0npXSGU",
        "outputId": "11e418f8-3e86-4eb8-98c3-3cf6cee7725f"
      },
      "source": [
        "@tf.function\r\n",
        "def f(x):\r\n",
        "    if x>0:\r\n",
        "        x = x * x\r\n",
        "    return x\r\n",
        "\r\n",
        "print(tf.autograph.to_code(f.python_function))"
      ],
      "execution_count": null,
      "outputs": [
        {
          "output_type": "stream",
          "text": [
            "def tf__f(x):\n",
            "    with ag__.FunctionScope('f', 'fscope', ag__.ConversionOptions(recursive=True, user_requested=True, optional_features=(), internal_convert_user_code=True)) as fscope:\n",
            "        do_return = False\n",
            "        retval_ = ag__.UndefinedReturnValue()\n",
            "\n",
            "        def get_state():\n",
            "            return (x,)\n",
            "\n",
            "        def set_state(vars_):\n",
            "            nonlocal x\n",
            "            (x,) = vars_\n",
            "\n",
            "        def if_body():\n",
            "            nonlocal x\n",
            "            x = (ag__.ld(x) * ag__.ld(x))\n",
            "\n",
            "        def else_body():\n",
            "            nonlocal x\n",
            "            pass\n",
            "        ag__.if_stmt((ag__.ld(x) > 0), if_body, else_body, get_state, set_state, ('x',), 1)\n",
            "        try:\n",
            "            do_return = True\n",
            "            retval_ = ag__.ld(x)\n",
            "        except:\n",
            "            do_return = False\n",
            "            raise\n",
            "        return fscope.ret(retval_, do_return)\n",
            "\n"
          ],
          "name": "stdout"
        }
      ]
    },
    {
      "cell_type": "code",
      "metadata": {
        "id": "vLfdV3FNXfBK",
        "colab": {
          "base_uri": "https://localhost:8080/"
        },
        "outputId": "d04cafb3-9b6f-451a-a570-c80694e0d3bf"
      },
      "source": [
        "@tf.function\r\n",
        "def fizzbuzz(max_num):\r\n",
        "    counter = 0\r\n",
        "    for num in range(max_num):\r\n",
        "        if num % 3 == 0 and num % 5 == 0:\r\n",
        "            print('FizzBuzz')\r\n",
        "        elif num % 3 == 0:\r\n",
        "            print('Fizz')\r\n",
        "        elif num % 5 == 0:\r\n",
        "            print('Buzz')\r\n",
        "        else:\r\n",
        "            print(num)\r\n",
        "        counter += 1\r\n",
        "    return counter\r\n",
        "\r\n",
        "print(tf.autograph.to_code(fizzbuzz.python_function))"
      ],
      "execution_count": null,
      "outputs": [
        {
          "output_type": "stream",
          "text": [
            "def tf__fizzbuzz(max_num):\n",
            "    with ag__.FunctionScope('fizzbuzz', 'fscope', ag__.ConversionOptions(recursive=True, user_requested=True, optional_features=(), internal_convert_user_code=True)) as fscope:\n",
            "        do_return = False\n",
            "        retval_ = ag__.UndefinedReturnValue()\n",
            "        counter = 0\n",
            "\n",
            "        def get_state_3():\n",
            "            return (counter,)\n",
            "\n",
            "        def set_state_3(vars_):\n",
            "            nonlocal counter\n",
            "            (counter,) = vars_\n",
            "\n",
            "        def loop_body(itr):\n",
            "            nonlocal counter\n",
            "            num = itr\n",
            "\n",
            "            def get_state_2():\n",
            "                return ()\n",
            "\n",
            "            def set_state_2(block_vars):\n",
            "                pass\n",
            "\n",
            "            def if_body_2():\n",
            "                ag__.ld(print)('FizzBuzz')\n",
            "\n",
            "            def else_body_2():\n",
            "\n",
            "                def get_state_1():\n",
            "                    return ()\n",
            "\n",
            "                def set_state_1(block_vars):\n",
            "                    pass\n",
            "\n",
            "                def if_body_1():\n",
            "                    ag__.ld(print)('Fizz')\n",
            "\n",
            "                def else_body_1():\n",
            "\n",
            "                    def get_state():\n",
            "                        return ()\n",
            "\n",
            "                    def set_state(block_vars):\n",
            "                        pass\n",
            "\n",
            "                    def if_body():\n",
            "                        ag__.ld(print)('Buzz')\n",
            "\n",
            "                    def else_body():\n",
            "                        ag__.ld(print)(ag__.ld(num))\n",
            "                    ag__.if_stmt(((ag__.ld(num) % 5) == 0), if_body, else_body, get_state, set_state, (), 0)\n",
            "                ag__.if_stmt(((ag__.ld(num) % 3) == 0), if_body_1, else_body_1, get_state_1, set_state_1, (), 0)\n",
            "            ag__.if_stmt(ag__.and_((lambda : ((ag__.ld(num) % 3) == 0)), (lambda : ((ag__.ld(num) % 5) == 0))), if_body_2, else_body_2, get_state_2, set_state_2, (), 0)\n",
            "            counter = ag__.ld(counter)\n",
            "            counter += 1\n",
            "        num = ag__.Undefined('num')\n",
            "        ag__.for_stmt(ag__.converted_call(ag__.ld(range), (ag__.ld(max_num),), None, fscope), None, loop_body, get_state_3, set_state_3, ('counter',), {'iterate_names': 'num'})\n",
            "        try:\n",
            "            do_return = True\n",
            "            retval_ = ag__.ld(counter)\n",
            "        except:\n",
            "            do_return = False\n",
            "            raise\n",
            "        return fscope.ret(retval_, do_return)\n",
            "\n"
          ],
          "name": "stdout"
        }
      ]
    },
    {
      "cell_type": "code",
      "metadata": {
        "id": "aIPBXUbCXgw3"
      },
      "source": [
        ""
      ],
      "execution_count": null,
      "outputs": []
    }
  ]
}