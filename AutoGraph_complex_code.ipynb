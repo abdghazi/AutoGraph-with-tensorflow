{
  "nbformat": 4,
  "nbformat_minor": 0,
  "metadata": {
    "colab": {
      "name": "AutoGraph_complex_code.ipynb",
      "provenance": []
    },
    "kernelspec": {
      "name": "python3",
      "display_name": "Python 3"
    }
  },
  "cells": [
    {
      "cell_type": "code",
      "metadata": {
        "id": "3G5vMSkSXjhu"
      },
      "source": [
        "try:\r\n",
        "    # %tensorflow_version only exists in Colab.\r\n",
        "    %tensorflow_version 2.x\r\n",
        "except Exception:\r\n",
        "    pass\r\n",
        "\r\n",
        "import tensorflow as tf"
      ],
      "execution_count": null,
      "outputs": []
    },
    {
      "cell_type": "code",
      "metadata": {
        "colab": {
          "base_uri": "https://localhost:8080/"
        },
        "id": "j1LH33b2bfEk",
        "outputId": "ff8fdf4f-d6e8-4cad-adc9-fecc2f7d746b"
      },
      "source": [
        "a = tf.Variable(10.0)\r\n",
        "b = tf.Variable(2.0)\r\n",
        "\r\n",
        "@tf.function\r\n",
        "def f(x,y):\r\n",
        "    a.assign(y * b)\r\n",
        "    b.assign_add(x * a)\r\n",
        "    return a + b\r\n",
        "\r\n",
        "print(f(1.0, 2.0))\r\n",
        "\r\n",
        "print(tf.autograph.to_code(f.python_function))"
      ],
      "execution_count": null,
      "outputs": [
        {
          "output_type": "stream",
          "text": [
            "tf.Tensor(10.0, shape=(), dtype=float32)\n",
            "def tf__f(x, y):\n",
            "    with ag__.FunctionScope('f', 'fscope', ag__.ConversionOptions(recursive=True, user_requested=True, optional_features=(), internal_convert_user_code=True)) as fscope:\n",
            "        do_return = False\n",
            "        retval_ = ag__.UndefinedReturnValue()\n",
            "        ag__.converted_call(ag__.ld(a).assign, ((ag__.ld(y) * ag__.ld(b)),), None, fscope)\n",
            "        ag__.converted_call(ag__.ld(b).assign_add, ((ag__.ld(x) * ag__.ld(a)),), None, fscope)\n",
            "        try:\n",
            "            do_return = True\n",
            "            retval_ = (ag__.ld(a) + ag__.ld(b))\n",
            "        except:\n",
            "            do_return = False\n",
            "            raise\n",
            "        return fscope.ret(retval_, do_return)\n",
            "\n"
          ],
          "name": "stdout"
        }
      ]
    },
    {
      "cell_type": "code",
      "metadata": {
        "id": "Pp3fBy33bgtU"
      },
      "source": [
        ""
      ],
      "execution_count": null,
      "outputs": []
    },
    {
      "cell_type": "code",
      "metadata": {
        "colab": {
          "base_uri": "https://localhost:8080/"
        },
        "id": "uyPnyCBybmAx",
        "outputId": "b2bb156e-7233-417b-ce27-cd65ba1620e2"
      },
      "source": [
        "@tf.function\r\n",
        "def sign(x):\r\n",
        "    if x > 0:\r\n",
        "        return 'Positive'\r\n",
        "    else:\r\n",
        "        return 'Negative or zero'\r\n",
        "\r\n",
        "print(\"Sign = {}\".format(sign(tf.constant(2))))\r\n",
        "print(\"Sign = {}\".format(sign(tf.constant(-2))))\r\n",
        "\r\n",
        "print(tf.autograph.to_code(sign.python_function))"
      ],
      "execution_count": null,
      "outputs": [
        {
          "output_type": "stream",
          "text": [
            "Sign = b'Positive'\n",
            "Sign = b'Negative or zero'\n",
            "def tf__sign(x):\n",
            "    with ag__.FunctionScope('sign', 'fscope', ag__.ConversionOptions(recursive=True, user_requested=True, optional_features=(), internal_convert_user_code=True)) as fscope:\n",
            "        do_return = False\n",
            "        retval_ = ag__.UndefinedReturnValue()\n",
            "\n",
            "        def get_state():\n",
            "            return (retval_, do_return)\n",
            "\n",
            "        def set_state(vars_):\n",
            "            nonlocal retval_, do_return\n",
            "            (retval_, do_return) = vars_\n",
            "\n",
            "        def if_body():\n",
            "            nonlocal retval_, do_return\n",
            "            try:\n",
            "                do_return = True\n",
            "                retval_ = 'Positive'\n",
            "            except:\n",
            "                do_return = False\n",
            "                raise\n",
            "\n",
            "        def else_body():\n",
            "            nonlocal retval_, do_return\n",
            "            try:\n",
            "                do_return = True\n",
            "                retval_ = 'Negative or zero'\n",
            "            except:\n",
            "                do_return = False\n",
            "                raise\n",
            "        ag__.if_stmt((ag__.ld(x) > 0), if_body, else_body, get_state, set_state, ('retval_', 'do_return'), 2)\n",
            "        return fscope.ret(retval_, do_return)\n",
            "\n"
          ],
          "name": "stdout"
        }
      ]
    },
    {
      "cell_type": "code",
      "metadata": {
        "colab": {
          "base_uri": "https://localhost:8080/"
        },
        "id": "spkDcmdKbuqE",
        "outputId": "75197b96-6209-43d9-9762-604213b96903"
      },
      "source": [
        "@tf.function\r\n",
        "def f(x):\r\n",
        "    while tf.reduce_sum(x) > 1:\r\n",
        "        tf.print(x)\r\n",
        "        x = tf.tanh(x)\r\n",
        "    return x\r\n",
        "\r\n",
        "print(tf.autograph.to_code(f.python_function))"
      ],
      "execution_count": null,
      "outputs": [
        {
          "output_type": "stream",
          "text": [
            "def tf__f(x):\n",
            "    with ag__.FunctionScope('f', 'fscope', ag__.ConversionOptions(recursive=True, user_requested=True, optional_features=(), internal_convert_user_code=True)) as fscope:\n",
            "        do_return = False\n",
            "        retval_ = ag__.UndefinedReturnValue()\n",
            "\n",
            "        def get_state():\n",
            "            return (x,)\n",
            "\n",
            "        def set_state(vars_):\n",
            "            nonlocal x\n",
            "            (x,) = vars_\n",
            "\n",
            "        def loop_body():\n",
            "            nonlocal x\n",
            "            ag__.converted_call(ag__.ld(tf).print, (ag__.ld(x),), None, fscope)\n",
            "            x = ag__.converted_call(ag__.ld(tf).tanh, (ag__.ld(x),), None, fscope)\n",
            "\n",
            "        def loop_test():\n",
            "            return (ag__.converted_call(ag__.ld(tf).reduce_sum, (ag__.ld(x),), None, fscope) > 1)\n",
            "        ag__.while_stmt(loop_test, loop_body, get_state, set_state, ('x',), {})\n",
            "        try:\n",
            "            do_return = True\n",
            "            retval_ = ag__.ld(x)\n",
            "        except:\n",
            "            do_return = False\n",
            "            raise\n",
            "        return fscope.ret(retval_, do_return)\n",
            "\n"
          ],
          "name": "stdout"
        }
      ]
    },
    {
      "cell_type": "code",
      "metadata": {
        "colab": {
          "base_uri": "https://localhost:8080/"
        },
        "id": "1Pwtlg2bbwPe",
        "outputId": "6a1d1e2a-8fdb-46aa-d4fa-de941367e5ef"
      },
      "source": [
        "@tf.function\r\n",
        "def sum_even(items):\r\n",
        "    s = 0\r\n",
        "    for c in items:\r\n",
        "        if c % 2 > 0:\r\n",
        "            continue\r\n",
        "        s += c\r\n",
        "    return s\r\n",
        "\r\n",
        "print(tf.autograph.to_code(sum_even.python_function))"
      ],
      "execution_count": null,
      "outputs": [
        {
          "output_type": "stream",
          "text": [
            "def tf__sum_even(items):\n",
            "    with ag__.FunctionScope('sum_even', 'fscope', ag__.ConversionOptions(recursive=True, user_requested=True, optional_features=(), internal_convert_user_code=True)) as fscope:\n",
            "        do_return = False\n",
            "        retval_ = ag__.UndefinedReturnValue()\n",
            "        s = 0\n",
            "\n",
            "        def get_state_2():\n",
            "            return (s,)\n",
            "\n",
            "        def set_state_2(vars_):\n",
            "            nonlocal s\n",
            "            (s,) = vars_\n",
            "\n",
            "        def loop_body(itr):\n",
            "            nonlocal s\n",
            "            c = itr\n",
            "            continue_ = False\n",
            "\n",
            "            def get_state():\n",
            "                return (continue_,)\n",
            "\n",
            "            def set_state(vars_):\n",
            "                nonlocal continue_\n",
            "                (continue_,) = vars_\n",
            "\n",
            "            def if_body():\n",
            "                nonlocal continue_\n",
            "                continue_ = True\n",
            "\n",
            "            def else_body():\n",
            "                nonlocal continue_\n",
            "                pass\n",
            "            ag__.if_stmt(((ag__.ld(c) % 2) > 0), if_body, else_body, get_state, set_state, ('continue_',), 1)\n",
            "\n",
            "            def get_state_1():\n",
            "                return (s,)\n",
            "\n",
            "            def set_state_1(vars_):\n",
            "                nonlocal s\n",
            "                (s,) = vars_\n",
            "\n",
            "            def if_body_1():\n",
            "                nonlocal s\n",
            "                s = ag__.ld(s)\n",
            "                s += c\n",
            "\n",
            "            def else_body_1():\n",
            "                nonlocal s\n",
            "                pass\n",
            "            ag__.if_stmt(ag__.not_(continue_), if_body_1, else_body_1, get_state_1, set_state_1, ('s',), 1)\n",
            "        continue_ = ag__.Undefined('continue_')\n",
            "        c = ag__.Undefined('c')\n",
            "        ag__.for_stmt(ag__.ld(items), None, loop_body, get_state_2, set_state_2, ('s',), {'iterate_names': 'c'})\n",
            "        try:\n",
            "            do_return = True\n",
            "            retval_ = ag__.ld(s)\n",
            "        except:\n",
            "            do_return = False\n",
            "            raise\n",
            "        return fscope.ret(retval_, do_return)\n",
            "\n"
          ],
          "name": "stdout"
        }
      ]
    },
    {
      "cell_type": "code",
      "metadata": {
        "colab": {
          "base_uri": "https://localhost:8080/"
        },
        "id": "OK_jLqcPbxcr",
        "outputId": "cf53c059-ba60-4b16-be1b-d5c4f110cf2c"
      },
      "source": [
        "def f(x):\r\n",
        "    print(\"Traced with\", x)\r\n",
        "\r\n",
        "for i in range(5):\r\n",
        "    f(2)\r\n",
        "    \r\n",
        "f(3)"
      ],
      "execution_count": null,
      "outputs": [
        {
          "output_type": "stream",
          "text": [
            "Traced with 2\n",
            "Traced with 2\n",
            "Traced with 2\n",
            "Traced with 2\n",
            "Traced with 2\n",
            "Traced with 3\n"
          ],
          "name": "stdout"
        }
      ]
    },
    {
      "cell_type": "code",
      "metadata": {
        "colab": {
          "base_uri": "https://localhost:8080/"
        },
        "id": "oB6KojADbzCW",
        "outputId": "78981758-1a20-4427-e78d-45c571f2b88c"
      },
      "source": [
        "@tf.function\r\n",
        "def f(x):\r\n",
        "    print(\"Traced with\", x)\r\n",
        "    # added tf.print\r\n",
        "    tf.print(\"Executed with\", x)\r\n",
        "\r\n",
        "for i in range(5):\r\n",
        "    f(2)\r\n",
        "    \r\n",
        "f(3)"
      ],
      "execution_count": null,
      "outputs": [
        {
          "output_type": "stream",
          "text": [
            "Traced with 2\n",
            "Executed with 2\n",
            "Executed with 2\n",
            "Executed with 2\n",
            "Executed with 2\n",
            "Executed with 2\n",
            "Traced with 3\n",
            "Executed with 3\n"
          ],
          "name": "stdout"
        }
      ]
    },
    {
      "cell_type": "code",
      "metadata": {
        "colab": {
          "base_uri": "https://localhost:8080/"
        },
        "id": "vdT6givvb0sC",
        "outputId": "c8ba0f68-30c9-4f23-d075-27be1a4d16ac"
      },
      "source": [
        "def f(x):\r\n",
        "    v = tf.Variable(1.0)\r\n",
        "    v.assign_add(x)\r\n",
        "    return v\r\n",
        "\r\n",
        "print(f(1))"
      ],
      "execution_count": null,
      "outputs": [
        {
          "output_type": "stream",
          "text": [
            "<tf.Variable 'Variable:0' shape=() dtype=float32, numpy=2.0>\n"
          ],
          "name": "stdout"
        }
      ]
    },
    {
      "cell_type": "code",
      "metadata": {
        "colab": {
          "base_uri": "https://localhost:8080/"
        },
        "id": "ilbhhEsBb4qc",
        "outputId": "afe8f1c9-ffe6-4d3d-a2ff-cdefe8812e60"
      },
      "source": [
        "# define the variables outside of the decorated function\r\n",
        "v = tf.Variable(1.0)\r\n",
        "\r\n",
        "@tf.function\r\n",
        "def f(x):\r\n",
        "    return v.assign_add(x)\r\n",
        "\r\n",
        "print(f(5))"
      ],
      "execution_count": null,
      "outputs": [
        {
          "output_type": "stream",
          "text": [
            "tf.Tensor(6.0, shape=(), dtype=float32)\n"
          ],
          "name": "stdout"
        }
      ]
    },
    {
      "cell_type": "code",
      "metadata": {
        "id": "nbwi2EIkb69a"
      },
      "source": [
        ""
      ],
      "execution_count": null,
      "outputs": []
    }
  ]
}